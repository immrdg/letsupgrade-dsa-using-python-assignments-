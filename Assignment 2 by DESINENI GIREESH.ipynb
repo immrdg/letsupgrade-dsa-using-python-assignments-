{
 "cells": [
  {
   "cell_type": "markdown",
   "metadata": {},
   "source": [
    "### QUESTION 1\n",
    "<pre style=\"color:navy\">\n",
    "Write a Python program to print even numbers in a list.\n",
    "Sample:\n\n",
    "   <b style=\"color:#fb2943\">Input: list1 = [12, 3, 55, 6, 144]\n",
    "   Output: [12, 6, 144] </b><br>\n",
    "   <b style=\"color:#cb2943\">Input: list2 = [2, 10, 9, 37]\n",
    "   Output: [2, 10]</b></pre>"
   ]
  },
  {
   "cell_type": "code",
   "execution_count": 1,
   "metadata": {},
   "outputs": [],
   "source": [
    "def even_num(lst):\n",
    "    a=[]\n",
    "    for i in lst:\n",
    "        if i not in a and i%2==0:\n",
    "            a.append(i)\n",
    "    return a "
   ]
  },
  {
   "cell_type": "code",
   "execution_count": 2,
   "metadata": {},
   "outputs": [
    {
     "name": "stdout",
     "output_type": "stream",
     "text": [
      "Enter no of inputs:2\n",
      "Enter elements of list1:12 3 55 6 144\n",
      "INPUT: LIST1= [12, 3, 55, 6, 144]\n",
      "OUTPUT: [12, 6, 144]\n",
      "\n",
      "\n",
      "Enter elements of list2:2 10 9 37\n",
      "INPUT: LIST2= [2, 10, 9, 37]\n",
      "OUTPUT: [2, 10]\n",
      "\n",
      "\n"
     ]
    }
   ],
   "source": [
    "n=int(input('Enter no of inputs:'))\n",
    "for i in range(n):\n",
    "    b=list(map(int,input(f\"Enter elements of list{i+1}:\").split()))\n",
    "    print(f\"INPUT: LIST{i+1}=\",b)\n",
    "    print(\"OUTPUT:\",even_num(b))\n",
    "    print('\\n')"
   ]
  },
  {
   "cell_type": "markdown",
   "metadata": {},
   "source": [
    "### QUESTION 2\n",
    "<pre style=\"color:darkblue\">Write a program to print the following pattern\n",
    "    1\n",
    "   22\n",
    "  333\n",
    " 4444\n",
    "55555 </pre>"
   ]
  },
  {
   "cell_type": "code",
   "execution_count": 3,
   "metadata": {},
   "outputs": [
    {
     "name": "stdout",
     "output_type": "stream",
     "text": [
      "Enter No.of Lines:5\n",
      "    1\n",
      "   22\n",
      "  333\n",
      " 4444\n",
      "55555\n"
     ]
    }
   ],
   "source": [
    "n=int(input(\"Enter No.of Lines:\"))\n",
    "for i in range(1,n+1):\n",
    "    print(\" \"*(n-i)+str(i)*i)"
   ]
  }
 ],
 "metadata": {
  "kernelspec": {
   "display_name": "Python 3",
   "language": "python",
   "name": "python3"
  },
  "language_info": {
   "codemirror_mode": {
    "name": "ipython",
    "version": 3
   },
   "file_extension": ".py",
   "mimetype": "text/x-python",
   "name": "python",
   "nbconvert_exporter": "python",
   "pygments_lexer": "ipython3",
   "version": "3.8.5"
  }
 },
 "nbformat": 4,
 "nbformat_minor": 4
}
