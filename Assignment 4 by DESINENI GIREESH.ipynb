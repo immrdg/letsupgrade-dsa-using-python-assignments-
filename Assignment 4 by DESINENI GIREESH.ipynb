{
 "cells": [
  {
   "cell_type": "markdown",
   "metadata": {},
   "source": [
    "# Question 1\n",
    "<b>Implement deletion operation from the end of the linked list and Insertion operation from the\n",
    "beginning of the linked list</b>"
   ]
  },
  {
   "cell_type": "code",
   "execution_count": 1,
   "metadata": {},
   "outputs": [
    {
     "name": "stdout",
     "output_type": "stream",
     "text": [
      "initial linked list\n",
      "22->24->5->13->8->17->11->End\n",
      "\n",
      "-----deleting at end---------\n",
      "22->24->5->13->8->17->End\n",
      "\n",
      "-----inserting at front--------\n",
      "31->22->24->5->13->8->17->End\n"
     ]
    }
   ],
   "source": [
    "import random\n",
    "class Node:\n",
    "    def __init__(self, data):\n",
    "        self.data = data\n",
    "        self.next = None\n",
    "class LinkedList:\n",
    "    def __init__(self):\n",
    "        self.head = None\n",
    "    def append(self,data):\n",
    "        node=Node(data)\n",
    "        if self.head==None:\n",
    "            self.head=node\n",
    "        else:\n",
    "            temp=self.head\n",
    "            while temp.next!=None:\n",
    "                temp=temp.next\n",
    "            temp.next=node\n",
    "    def delete_at_end(self):\n",
    "        if self.head==None:\n",
    "            print(\"cant delete\")\n",
    "        else:\n",
    "            temp=self.head\n",
    "            while(temp.next.next!=None):\n",
    "                temp=temp.next\n",
    "            temp.next=None\n",
    "    def insert_at_beginning(self,data):\n",
    "        node=Node(data)\n",
    "        node.next=self.head\n",
    "        self.head=node\n",
    "    def display(self):\n",
    "        temp=self.head\n",
    "        while temp!=None:\n",
    "            print(temp.data,end=\"->\")\n",
    "            temp=temp.next\n",
    "        print('End')\n",
    "data=random.sample(range(0, 30), 7)\n",
    "a=LinkedList()\n",
    "for i in data:\n",
    "    a.append(i)\n",
    "print('initial linked list')\n",
    "a.display()\n",
    "print(\"\\n-----deleting at end---------\")\n",
    "a.delete_at_end()\n",
    "a.display()\n",
    "print(\"\\n-----inserting at front--------\")\n",
    "a.insert_at_beginning(31)\n",
    "a.display()"
   ]
  },
  {
   "cell_type": "markdown",
   "metadata": {},
   "source": [
    "# Question 2\n",
    "<b>Implement binary search using python language.\n",
    "(Write a function which returns the index of x in given array arr if present, else returns -1)</b>"
   ]
  },
  {
   "cell_type": "markdown",
   "metadata": {},
   "source": [
    "### TRAIL 1"
   ]
  },
  {
   "cell_type": "code",
   "execution_count": 2,
   "metadata": {},
   "outputs": [
    {
     "name": "stdout",
     "output_type": "stream",
     "text": [
      "Enter a number to check if it contains in our data:24\n",
      "Element 24 not found in \n",
      "[37, 16, 10, 12, 42, 26, 4, 49, 13, 46, 28, 21, 20, 40, 18, 30, 6, 39, 41, 17, 34, 1, 45, 7, 11]\n"
     ]
    }
   ],
   "source": [
    "import random\n",
    "def binary_search(list1, n):  \n",
    "    low = 0  \n",
    "    high = len(list1) - 1  \n",
    "    mid = 0  \n",
    "  \n",
    "    while low <= high:  \n",
    "        mid = (high + low) // 2  \n",
    "        if list1[mid] < n:  \n",
    "            low = mid + 1    \n",
    "        elif list1[mid] > n:  \n",
    "            high = mid - 1   \n",
    "        else:  \n",
    "            return mid   \n",
    "    return -1   \n",
    "data = random.sample(range(1,50),25)\n",
    "search_element = int(input(\"Enter a number to check if it contains in our data:\"))\n",
    "  \n",
    "# Function call   \n",
    "index = binary_search(data, search_element)  \n",
    "if index != -1:  \n",
    "    print(f\"Element is present at index {index}\")  \n",
    "else:  \n",
    "    print(f\"Element {search_element} not found in \")  \n",
    "    print(data)"
   ]
  },
  {
   "cell_type": "markdown",
   "metadata": {},
   "source": [
    "### TRAIL 2"
   ]
  },
  {
   "cell_type": "code",
   "execution_count": 3,
   "metadata": {},
   "outputs": [
    {
     "name": "stdout",
     "output_type": "stream",
     "text": [
      "Enter a number to check if it contains in our data:24\n",
      "Element is present at index 21\n"
     ]
    }
   ],
   "source": [
    "import random\n",
    "def binary_search(list1, n):  \n",
    "    low = 0  \n",
    "    high = len(list1) - 1  \n",
    "    mid = 0  \n",
    "  \n",
    "    while low <= high:  \n",
    "        mid = (high + low) // 2  \n",
    "        if list1[mid] < n:  \n",
    "            low = mid + 1    \n",
    "        elif list1[mid] > n:  \n",
    "            high = mid - 1   \n",
    "        else:  \n",
    "            return mid   \n",
    "    return -1   \n",
    "data = random.sample(range(1,50),25)\n",
    "search_element = int(input(\"Enter a number to check if it contains in our data:\"))\n",
    "  \n",
    "# Function call   \n",
    "index = binary_search(data, search_element)  \n",
    "if index != -1:  \n",
    "    print(f\"Element is present at index {index}\")  \n",
    "else:  \n",
    "    print(f\"Element {search_element} not found in \")  \n",
    "    print(data)"
   ]
  },
  {
   "cell_type": "markdown",
   "metadata": {},
   "source": [
    "# Question 3\n",
    "Write a Python program to find the middle of a linked list.\n"
   ]
  },
  {
   "cell_type": "code",
   "execution_count": 4,
   "metadata": {},
   "outputs": [
    {
     "name": "stdout",
     "output_type": "stream",
     "text": [
      "initial linked list\n",
      "6->10->26->12->25->27->29->End\n",
      "\n",
      "Element At Middle of LL is: 12\n"
     ]
    }
   ],
   "source": [
    "import random\n",
    "class Node:\n",
    "    def __init__(self, data):\n",
    "        self.data = data\n",
    "        self.next = None\n",
    "class LinkedList:\n",
    "    def __init__(self):\n",
    "        self.head = None\n",
    "    def append(self,data):\n",
    "        node=Node(data)\n",
    "        if self.head==None:\n",
    "            self.head=node\n",
    "        else:\n",
    "            temp=self.head\n",
    "            while temp.next!=None:\n",
    "                temp=temp.next\n",
    "            temp.next=node\n",
    "    def display_at_middle(self):\n",
    "        nodes=[]\n",
    "        temp=self.head\n",
    "        while temp!=None:\n",
    "            nodes.append(temp.data)\n",
    "            temp=temp.next\n",
    "        print(\"\\nElement At Middle of LL is:\",nodes[len(nodes)//2])\n",
    "    def display(self):\n",
    "        temp=self.head\n",
    "        while temp!=None:\n",
    "            print(temp.data,end=\"->\")\n",
    "            temp=temp.next\n",
    "        print('End')\n",
    "data=random.sample(range(0, 30), 7)\n",
    "a=LinkedList()\n",
    "for i in data:\n",
    "    a.append(i)\n",
    "print('initial linked list')\n",
    "a.display()\n",
    "a.display_at_middle()"
   ]
  }
 ],
 "metadata": {
  "kernelspec": {
   "display_name": "Python 3",
   "language": "python",
   "name": "python3"
  },
  "language_info": {
   "codemirror_mode": {
    "name": "ipython",
    "version": 3
   },
   "file_extension": ".py",
   "mimetype": "text/x-python",
   "name": "python",
   "nbconvert_exporter": "python",
   "pygments_lexer": "ipython3",
   "version": "3.6.11"
  }
 },
 "nbformat": 4,
 "nbformat_minor": 4
}
