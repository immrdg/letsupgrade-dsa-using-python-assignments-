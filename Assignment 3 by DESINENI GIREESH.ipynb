{
 "cells": [
  {
   "cell_type": "markdown",
   "metadata": {},
   "source": [
    "# Question 1\n",
    "<b>Write a Python program to add two numbers using class and object.\n",
    "(Take both numbers as input from the user)</b>"
   ]
  },
  {
   "cell_type": "code",
   "execution_count": 1,
   "metadata": {},
   "outputs": [
    {
     "name": "stdout",
     "output_type": "stream",
     "text": [
      "Enter 1st value:12\n",
      "Enter 2nd value:18\n",
      "Addition of 12 and 18 is 30\n"
     ]
    }
   ],
   "source": [
    "class Addition:\n",
    "    def __init__(self,a,b):\n",
    "        self.a=a\n",
    "        self.b=b\n",
    "    def Sum(self):\n",
    "        return self.a+self.b\n",
    "a=int(input(\"Enter 1st value:\"))\n",
    "b=int(input(\"Enter 2nd value:\"))\n",
    "c=Addition(a,b)\n",
    "print(f\"Addition of {c.a} and {c.b} is\",c.Sum())"
   ]
  },
  {
   "cell_type": "markdown",
   "metadata": {},
   "source": [
    "# Questin 2\n",
    "<b>Define a function swap that should swap two values and print the swapped variables outside the\n",
    "swap function.</b>"
   ]
  },
  {
   "cell_type": "code",
   "execution_count": 2,
   "metadata": {},
   "outputs": [
    {
     "name": "stdout",
     "output_type": "stream",
     "text": [
      "Enter 1st value: 21\n",
      "Enter 2nd value: 3\n",
      "The values of var1 and var2 before swapping: var1=21,var2=3\n",
      "The values of var1 and var2 after swapping: var1=3,var2=21\n"
     ]
    }
   ],
   "source": [
    "def swap(x,y):\n",
    "    x,y = y,x\n",
    "    return x,y\n",
    "var1=int(input(\"Enter 1st value: \"))\n",
    "var2=int(input(\"Enter 2nd value: \"))\n",
    "print(f'The values of var1 and var2 before swapping: var1={var1},var2={var2}')\n",
    "var1,var2=swap(var1,var2)\n",
    "print(f'The values of var1 and var2 after swapping: var1={var1},var2={var2}')"
   ]
  },
  {
   "cell_type": "code",
   "execution_count": null,
   "metadata": {},
   "outputs": [],
   "source": []
  }
 ],
 "metadata": {
  "kernelspec": {
   "display_name": "Python 3",
   "language": "python",
   "name": "python3"
  },
  "language_info": {
   "codemirror_mode": {
    "name": "ipython",
    "version": 3
   },
   "file_extension": ".py",
   "mimetype": "text/x-python",
   "name": "python",
   "nbconvert_exporter": "python",
   "pygments_lexer": "ipython3",
   "version": "3.6.11"
  }
 },
 "nbformat": 4,
 "nbformat_minor": 4
}
